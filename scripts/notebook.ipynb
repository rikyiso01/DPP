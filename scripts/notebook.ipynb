{
 "cells": [
  {
   "cell_type": "markdown",
   "metadata": {},
   "source": [
    "# Data Protection & Privacy -- Exam Scripts\n",
    "\n",
    "## 9cfu script analysis\n",
    "\n",
    "Authors:\n",
    "<br>\n",
    "Kevin Cattaneo - S4944382\n",
    "<br>\n",
    "Riccardo Isola – S4943369\n"
   ]
  },
  {
   "cell_type": "markdown",
   "metadata": {},
   "source": [
    "### Preliminary Operations\n"
   ]
  },
  {
   "cell_type": "markdown",
   "metadata": {},
   "source": [
    "#### Imports\n"
   ]
  },
  {
   "cell_type": "code",
   "execution_count": 1,
   "metadata": {},
   "outputs": [],
   "source": [
    "from generator import generate_data\n",
    "import seaborn as sns\n",
    "import matplotlib.pyplot as plt"
   ]
  },
  {
   "cell_type": "markdown",
   "metadata": {},
   "source": [
    "#### Seed for reproducibility\n"
   ]
  },
  {
   "cell_type": "code",
   "execution_count": 2,
   "metadata": {},
   "outputs": [],
   "source": [
    "SEED = 42\n",
    "N = 10**4"
   ]
  },
  {
   "cell_type": "markdown",
   "metadata": {},
   "source": [
    "#### Data generation\n"
   ]
  },
  {
   "cell_type": "code",
   "execution_count": 3,
   "metadata": {},
   "outputs": [],
   "source": [
    "data = generate_data(\n",
    "    seed=SEED,\n",
    "    alpha=0.41,\n",
    "    beta=0.54,\n",
    "    gamma=0.05,\n",
    "    delta_in=0.2,\n",
    "    delta_out=0,\n",
    "    n=N,\n",
    "    progress=False,\n",
    ")"
   ]
  },
  {
   "cell_type": "markdown",
   "metadata": {},
   "source": [
    "### Script 1: Generalization\n"
   ]
  },
  {
   "cell_type": "code",
   "execution_count": 4,
   "metadata": {},
   "outputs": [],
   "source": [
    "from scripts.generalization import preprocessing, anonymize_data"
   ]
  },
  {
   "cell_type": "code",
   "execution_count": 5,
   "metadata": {},
   "outputs": [],
   "source": [
    "input = preprocessing(data)  # also consider the followers\n",
    "output = anonymize_data(input, SEED)"
   ]
  },
  {
   "cell_type": "code",
   "execution_count": 6,
   "metadata": {},
   "outputs": [
    {
     "data": {
      "text/html": [
       "<div>\n",
       "<style scoped>\n",
       "    .dataframe tbody tr th:only-of-type {\n",
       "        vertical-align: middle;\n",
       "    }\n",
       "\n",
       "    .dataframe tbody tr th {\n",
       "        vertical-align: top;\n",
       "    }\n",
       "\n",
       "    .dataframe thead th {\n",
       "        text-align: right;\n",
       "    }\n",
       "</style>\n",
       "<table border=\"1\" class=\"dataframe\">\n",
       "  <thead>\n",
       "    <tr style=\"text-align: right;\">\n",
       "      <th></th>\n",
       "      <th>username</th>\n",
       "      <th>name</th>\n",
       "      <th>surname</th>\n",
       "      <th>birth_date</th>\n",
       "      <th>gender</th>\n",
       "      <th>cap</th>\n",
       "      <th>address</th>\n",
       "      <th>city</th>\n",
       "      <th>phone_number</th>\n",
       "      <th>email</th>\n",
       "      <th>followers</th>\n",
       "    </tr>\n",
       "  </thead>\n",
       "  <tbody>\n",
       "    <tr>\n",
       "      <th>0</th>\n",
       "      <td>montalcinilina</td>\n",
       "      <td>Cirillo</td>\n",
       "      <td>Sorrentino</td>\n",
       "      <td>2012-02-12</td>\n",
       "      <td>female</td>\n",
       "      <td>24129</td>\n",
       "      <td>Viale Gramsci, 23</td>\n",
       "      <td>Caravita</td>\n",
       "      <td>08839659806</td>\n",
       "      <td>amadeofinotto@example.net</td>\n",
       "      <td>2835</td>\n",
       "    </tr>\n",
       "    <tr>\n",
       "      <th>1</th>\n",
       "      <td>serena67</td>\n",
       "      <td>Tina</td>\n",
       "      <td>Paganini</td>\n",
       "      <td>1992-03-30</td>\n",
       "      <td>male</td>\n",
       "      <td>43029</td>\n",
       "      <td>Vicolo Murri, 128 Appartamento 4</td>\n",
       "      <td>Villefranche</td>\n",
       "      <td>37564682964</td>\n",
       "      <td>dverdone@example.net</td>\n",
       "      <td>1551</td>\n",
       "    </tr>\n",
       "    <tr>\n",
       "      <th>2</th>\n",
       "      <td>massimiliano24</td>\n",
       "      <td>Livio</td>\n",
       "      <td>Morrocco</td>\n",
       "      <td>1982-04-10</td>\n",
       "      <td>male</td>\n",
       "      <td>11015</td>\n",
       "      <td>Viale Cappelli, 247 Piano 9</td>\n",
       "      <td>Rota D'Imagna</td>\n",
       "      <td>3774993581</td>\n",
       "      <td>beppe62@example.com</td>\n",
       "      <td>332</td>\n",
       "    </tr>\n",
       "    <tr>\n",
       "      <th>3</th>\n",
       "      <td>riccardocicala</td>\n",
       "      <td>Orlando</td>\n",
       "      <td>Cocci</td>\n",
       "      <td>1953-01-10</td>\n",
       "      <td>male</td>\n",
       "      <td>72021</td>\n",
       "      <td>Stretto Jilani, 6</td>\n",
       "      <td>Iano</td>\n",
       "      <td>345308728</td>\n",
       "      <td>nicola06@example.org</td>\n",
       "      <td>0</td>\n",
       "    </tr>\n",
       "    <tr>\n",
       "      <th>4</th>\n",
       "      <td>cpacillo</td>\n",
       "      <td>Matilda</td>\n",
       "      <td>Giacconi</td>\n",
       "      <td>1987-03-06</td>\n",
       "      <td>non_binary</td>\n",
       "      <td>39018</td>\n",
       "      <td>Vicolo Fortunata, 10</td>\n",
       "      <td>Deliceto</td>\n",
       "      <td>07769109984</td>\n",
       "      <td>dgaito@example.net</td>\n",
       "      <td>0</td>\n",
       "    </tr>\n",
       "  </tbody>\n",
       "</table>\n",
       "</div>"
      ],
      "text/plain": [
       "         username     name     surname  birth_date      gender    cap  \\\n",
       "0  montalcinilina  Cirillo  Sorrentino  2012-02-12      female  24129   \n",
       "1        serena67     Tina    Paganini  1992-03-30        male  43029   \n",
       "2  massimiliano24    Livio    Morrocco  1982-04-10        male  11015   \n",
       "3  riccardocicala  Orlando       Cocci  1953-01-10        male  72021   \n",
       "4        cpacillo  Matilda    Giacconi  1987-03-06  non_binary  39018   \n",
       "\n",
       "                            address           city phone_number  \\\n",
       "0                 Viale Gramsci, 23       Caravita  08839659806   \n",
       "1  Vicolo Murri, 128 Appartamento 4   Villefranche  37564682964   \n",
       "2       Viale Cappelli, 247 Piano 9  Rota D'Imagna   3774993581   \n",
       "3                 Stretto Jilani, 6           Iano    345308728   \n",
       "4              Vicolo Fortunata, 10       Deliceto  07769109984   \n",
       "\n",
       "                       email  followers  \n",
       "0  amadeofinotto@example.net       2835  \n",
       "1       dverdone@example.net       1551  \n",
       "2        beppe62@example.com        332  \n",
       "3       nicola06@example.org          0  \n",
       "4         dgaito@example.net          0  "
      ]
     },
     "execution_count": 6,
     "metadata": {},
     "output_type": "execute_result"
    }
   ],
   "source": [
    "input.head()"
   ]
  },
  {
   "cell_type": "code",
   "execution_count": 7,
   "metadata": {},
   "outputs": [
    {
     "data": {
      "text/html": [
       "<div>\n",
       "<style scoped>\n",
       "    .dataframe tbody tr th:only-of-type {\n",
       "        vertical-align: middle;\n",
       "    }\n",
       "\n",
       "    .dataframe tbody tr th {\n",
       "        vertical-align: top;\n",
       "    }\n",
       "\n",
       "    .dataframe thead th {\n",
       "        text-align: right;\n",
       "    }\n",
       "</style>\n",
       "<table border=\"1\" class=\"dataframe\">\n",
       "  <thead>\n",
       "    <tr style=\"text-align: right;\">\n",
       "      <th></th>\n",
       "      <th>username</th>\n",
       "      <th>name</th>\n",
       "      <th>surname</th>\n",
       "      <th>birth_date</th>\n",
       "      <th>gender</th>\n",
       "      <th>cap</th>\n",
       "      <th>address</th>\n",
       "      <th>city</th>\n",
       "      <th>phone_number</th>\n",
       "      <th>email</th>\n",
       "      <th>followers</th>\n",
       "    </tr>\n",
       "  </thead>\n",
       "  <tbody>\n",
       "    <tr>\n",
       "      <th>0</th>\n",
       "      <td>vjones</td>\n",
       "      <td>Matthew</td>\n",
       "      <td>Wade</td>\n",
       "      <td>2012-01-01</td>\n",
       "      <td>*</td>\n",
       "      <td>24000</td>\n",
       "      <td>Viale Gramsci</td>\n",
       "      <td>CA</td>\n",
       "      <td>088396*****</td>\n",
       "      <td>johnbeltran@example.org</td>\n",
       "      <td>2845</td>\n",
       "    </tr>\n",
       "    <tr>\n",
       "      <th>1</th>\n",
       "      <td>whitediana</td>\n",
       "      <td>Carolyn</td>\n",
       "      <td>Miller</td>\n",
       "      <td>1992-01-01</td>\n",
       "      <td>*</td>\n",
       "      <td>43000</td>\n",
       "      <td>Vicolo Murri</td>\n",
       "      <td>VI</td>\n",
       "      <td>375646*****</td>\n",
       "      <td>steelecindy@example.org</td>\n",
       "      <td>1544</td>\n",
       "    </tr>\n",
       "    <tr>\n",
       "      <th>2</th>\n",
       "      <td>qblack</td>\n",
       "      <td>Roy</td>\n",
       "      <td>Nelson</td>\n",
       "      <td>1982-01-01</td>\n",
       "      <td>*</td>\n",
       "      <td>11000</td>\n",
       "      <td>Viale Cappelli</td>\n",
       "      <td>RO</td>\n",
       "      <td>37749*****</td>\n",
       "      <td>jacksonjennifer@example.org</td>\n",
       "      <td>322</td>\n",
       "    </tr>\n",
       "    <tr>\n",
       "      <th>3</th>\n",
       "      <td>lisabuckley</td>\n",
       "      <td>Karen</td>\n",
       "      <td>Obrien</td>\n",
       "      <td>1953-01-01</td>\n",
       "      <td>*</td>\n",
       "      <td>72000</td>\n",
       "      <td>Stretto Jilani</td>\n",
       "      <td>IA</td>\n",
       "      <td>3453*****</td>\n",
       "      <td>hdelacruz@example.com</td>\n",
       "      <td>0</td>\n",
       "    </tr>\n",
       "    <tr>\n",
       "      <th>4</th>\n",
       "      <td>fjones</td>\n",
       "      <td>Amanda</td>\n",
       "      <td>Perkins</td>\n",
       "      <td>1987-01-01</td>\n",
       "      <td>*</td>\n",
       "      <td>39000</td>\n",
       "      <td>Vicolo Fortunata</td>\n",
       "      <td>DE</td>\n",
       "      <td>077691*****</td>\n",
       "      <td>andrewsbradley@example.org</td>\n",
       "      <td>0</td>\n",
       "    </tr>\n",
       "  </tbody>\n",
       "</table>\n",
       "</div>"
      ],
      "text/plain": [
       "      username     name  surname  birth_date gender    cap           address  \\\n",
       "0       vjones  Matthew     Wade  2012-01-01      *  24000     Viale Gramsci   \n",
       "1   whitediana  Carolyn   Miller  1992-01-01      *  43000      Vicolo Murri   \n",
       "2       qblack      Roy   Nelson  1982-01-01      *  11000    Viale Cappelli   \n",
       "3  lisabuckley    Karen   Obrien  1953-01-01      *  72000    Stretto Jilani   \n",
       "4       fjones   Amanda  Perkins  1987-01-01      *  39000  Vicolo Fortunata   \n",
       "\n",
       "  city phone_number                        email  followers  \n",
       "0   CA  088396*****      johnbeltran@example.org       2845  \n",
       "1   VI  375646*****      steelecindy@example.org       1544  \n",
       "2   RO   37749*****  jacksonjennifer@example.org        322  \n",
       "3   IA    3453*****        hdelacruz@example.com          0  \n",
       "4   DE  077691*****   andrewsbradley@example.org          0  "
      ]
     },
     "execution_count": 7,
     "metadata": {},
     "output_type": "execute_result"
    }
   ],
   "source": [
    "output.head()"
   ]
  },
  {
   "cell_type": "markdown",
   "metadata": {},
   "source": [
    "We decide to plot how much our sensitive data (SD), in our case the followers, have been perturbated\n"
   ]
  },
  {
   "cell_type": "code",
   "execution_count": 8,
   "metadata": {},
   "outputs": [
    {
     "data": {
      "text/plain": [
       "Text(0, 0.5, 'mean of followers')"
      ]
     },
     "execution_count": 8,
     "metadata": {},
     "output_type": "execute_result"
    },
    {
     "data": {
      "image/png": "[encoded data removed]",
      "text/plain": [
       "<Figure size 640x480 with 1 Axes>"
      ]
     },
     "metadata": {},
     "output_type": "display_data"
    }
   ],
   "source": [
    "bars = {\n",
    "    \"original\": input[\"followers\"].mean(),\n",
    "    \"perturbated\": output[\"followers\"].mean(),\n",
    "}\n",
    "for name, bar in bars.items():\n",
    "    r = plt.bar(name, bar)[0]\n",
    "    plt.text(\n",
    "        r.get_x() + r.get_width() / 2.0,\n",
    "        bar,\n",
    "        bar,\n",
    "        ha=\"center\",\n",
    "        va=\"bottom\",\n",
    "    )\n",
    "plt.title(\"Perturbation of followers\")\n",
    "plt.ylabel(\"mean of followers\")"
   ]
  },
  {
   "cell_type": "markdown",
   "metadata": {},
   "source": [
    "Then we look for the groups of common values we have created on the generalized data (on QI), in this case we focus on CAP (Italian postal code)\n"
   ]
  },
  {
   "cell_type": "code",
   "execution_count": 9,
   "metadata": {},
   "outputs": [
    {
     "data": {
      "text/plain": [
       "1"
      ]
     },
     "execution_count": 9,
     "metadata": {},
     "output_type": "execute_result"
    }
   ],
   "source": [
    "input[\"cap\"].value_counts().min()"
   ]
  },
  {
   "cell_type": "code",
   "execution_count": 10,
   "metadata": {},
   "outputs": [
    {
     "data": {
      "text/plain": [
       "18"
      ]
     },
     "execution_count": 10,
     "metadata": {},
     "output_type": "execute_result"
    }
   ],
   "source": [
    "output[\"cap\"].value_counts().min()"
   ]
  },
  {
   "cell_type": "markdown",
   "metadata": {},
   "source": [
    "What we observe is that considering only the CAP, we obtain a 20 anonymous since one CAP is related to at least 20 different users\n"
   ]
  },
  {
   "cell_type": "markdown",
   "metadata": {},
   "source": [
    "Finally we analyze the substitution we did on the EI, with focus on username. We search for number of collision we have produced, since we have chosen to substitute without unique values, inserting more anonymization (since multiple users can have the same username)\n"
   ]
  },
  {
   "cell_type": "code",
   "execution_count": 11,
   "metadata": {},
   "outputs": [
    {
     "data": {
      "text/plain": [
       "986"
      ]
     },
     "execution_count": 11,
     "metadata": {},
     "output_type": "execute_result"
    }
   ],
   "source": [
    "count = output[\"username\"].value_counts()\n",
    "count[count > 1].sum()"
   ]
  },
  {
   "cell_type": "markdown",
   "metadata": {},
   "source": [
    "We obtain a great amount of collision. We consider the sum of all the username with frequency greater than 1.\n"
   ]
  },
  {
   "cell_type": "markdown",
   "metadata": {},
   "source": [
    "We also report the fact we tried using the datafly-core algorithm as reported on paper, and still available on the script, but its k-anonymization results into a greater loss of utility.  \n",
    "So we decided to show the results above without applying this kind of frequency consideration on the anonymized data. "
   ]
  },
  {
   "cell_type": "markdown",
   "metadata": {},
   "source": [
    "### Script 2: KMeans\n"
   ]
  },
  {
   "cell_type": "code",
   "execution_count": 12,
   "metadata": {},
   "outputs": [],
   "source": [
    "K = 5  # number of clusters"
   ]
  },
  {
   "cell_type": "code",
   "execution_count": 13,
   "metadata": {},
   "outputs": [
    {
     "data": {
      "text/plain": [
       "Text(0.5, 0, 'n follower')"
      ]
     },
     "execution_count": 13,
     "metadata": {},
     "output_type": "execute_result"
    },
    {
     "data": {
      "image/png": "[encoded data removed]",
      "text/plain": [
       "<Figure size 640x480 with 1 Axes>"
      ]
     },
     "metadata": {},
     "output_type": "display_data"
    }
   ],
   "source": [
    "import random\n",
    "from scripts.kmeans import Point, kmeans\n",
    "\n",
    "random.seed(SEED)\n",
    "in_degree = data.following.in_degree()\n",
    "out_degree = data.following.out_degree()\n",
    "degrees: list[Point] = [Point(in_degree[u], out_degree[u]) for u in data.following]\n",
    "clusters = kmeans(degrees, K)\n",
    "plt.scatter([d.x for d in degrees], [d.y for d in degrees], c=[c / K for c in clusters])\n",
    "plt.yscale(\"log\")\n",
    "plt.xscale(\"log\")\n",
    "plt.title(f\"Kmeans with k={K}\")\n",
    "plt.ylabel(\"n following\")\n",
    "plt.xlabel(\"n follower\")"
   ]
  },
  {
   "cell_type": "markdown",
   "metadata": {},
   "source": [
    "### Script 3: Graph\n"
   ]
  },
  {
   "cell_type": "code",
   "execution_count": 14,
   "metadata": {},
   "outputs": [],
   "source": [
    "import networkx as nx\n",
    "from typing import Any"
   ]
  },
  {
   "cell_type": "markdown",
   "metadata": {},
   "source": [
    "We try a different graph to see how the algorithm performs  \n",
    "<i>\n",
    "Note: the paper is not so clear on many aspects involving some special cases; so we do not assure that the (2,1)-anonymization works as intended. For further details, please consult the relative comments in the relative script\n",
    "</i>\n"
   ]
  },
  {
   "cell_type": "code",
   "execution_count": 16,
   "metadata": {},
   "outputs": [
    {
     "data": {
      "text/plain": [
       "False"
      ]
     },
     "execution_count": 16,
     "metadata": {},
     "output_type": "execute_result"
    }
   ],
   "source": [
    "from scripts.graph import check_weak\n",
    "\n",
    "\n",
    "G = nx.Graph(\n",
    "    [\n",
    "        (1, 2),\n",
    "        (1, 3),\n",
    "        (1, 4),\n",
    "        (2, 5),\n",
    "        (2, 6),\n",
    "        (3, 7),\n",
    "        (3, 8),\n",
    "        (4, 9),\n",
    "        (5, 10),\n",
    "        (5, 11),\n",
    "        (6, 12),\n",
    "        (6, 13),\n",
    "        (7, 14),\n",
    "        (7, 15),\n",
    "        (8, 16),\n",
    "        (8, 17),\n",
    "        (9, 18),\n",
    "        (9, 19),\n",
    "        (10, 20),\n",
    "        (10, 21),\n",
    "        (11, 22),\n",
    "        (11, 23),\n",
    "        (12, 24),\n",
    "        (12, 25),\n",
    "        (13, 26),\n",
    "        (13, 27),\n",
    "        (14, 28),\n",
    "        (14, 29),\n",
    "        (15, 30),\n",
    "        (15, 31),\n",
    "        (16, 33),\n",
    "        (17, 34),\n",
    "        (17, 35),\n",
    "        (18, 36),\n",
    "        (18, 37),\n",
    "        (19, 38),\n",
    "        (19, 39),\n",
    "        (20, 40),\n",
    "        (20, 41),\n",
    "        (22, 24),\n",
    "        (23, 26),\n",
    "        (25, 29),\n",
    "        (27, 31),\n",
    "        (28, 33),\n",
    "        (30, 37),\n",
    "        (32, 39),\n",
    "        (34, 41),\n",
    "    ]\n",
    ")\n",
    "\n",
    "check_weak(G, 2, 1)"
   ]
  },
  {
   "cell_type": "code",
   "execution_count": 17,
   "metadata": {},
   "outputs": [
    {
     "data": {
      "text/plain": [
       "True"
      ]
     },
     "execution_count": 17,
     "metadata": {},
     "output_type": "execute_result"
    }
   ],
   "source": [
    "from scripts.graph import anonymize\n",
    "\n",
    "Ga = anonymize(G)\n",
    "\n",
    "check_weak(Ga, 2, 1)"
   ]
  },
  {
   "cell_type": "markdown",
   "metadata": {},
   "source": [
    "### Statistical informations\n",
    "\n",
    "Then we decide to plot some common statistical measurements\n"
   ]
  },
  {
   "cell_type": "markdown",
   "metadata": {},
   "source": [
    "We selected:\n",
    "\n",
    "-   Node removal robustness\n",
    "-   Diameter and mean degree\n",
    "-   Closeness\n",
    "-   Betweenness\n"
   ]
  },
  {
   "cell_type": "code",
   "execution_count": 18,
   "metadata": {},
   "outputs": [],
   "source": [
    "from __future__ import annotations\n",
    "\n",
    "\n",
    "def robustness(G: nx.Graph[Any]) -> list[float]:\n",
    "    G = G.copy()\n",
    "    initial_size = len(max(nx.connected_components(G), key=len))\n",
    "    result: list[float] = []\n",
    "    for node in G.copy().nodes():\n",
    "        result.append(len(max(nx.connected_components(G), key=len)) / initial_size)\n",
    "        G.remove_node(node)\n",
    "    return result"
   ]
  },
  {
   "cell_type": "code",
   "execution_count": 19,
   "metadata": {},
   "outputs": [],
   "source": [
    "y_original = robustness(G)\n",
    "y_anonymized = robustness(Ga)"
   ]
  },
  {
   "cell_type": "code",
   "execution_count": 20,
   "metadata": {},
   "outputs": [
    {
     "data": {
      "image/png": "[encoded data removed]",
      "text/plain": [
       "<Figure size 640x480 with 1 Axes>"
      ]
     },
     "metadata": {},
     "output_type": "display_data"
    }
   ],
   "source": [
    "plt.title(\"Robustness\")\n",
    "plt.plot(y_original, label=\"original\")\n",
    "plt.plot(y_anonymized, label=\"anonymized\")\n",
    "plt.xlabel(\"Number of nodes removed\")\n",
    "plt.ylabel(\"Robustness\")\n",
    "plt.legend()\n",
    "plt.show()"
   ]
  },
  {
   "cell_type": "code",
   "execution_count": 21,
   "metadata": {},
   "outputs": [
    {
     "name": "stdout",
     "output_type": "stream",
     "text": [
      "10 8\n"
     ]
    }
   ],
   "source": [
    "original_diameter = nx.diameter(nx.Graph(G))\n",
    "anonymized_diameter = nx.diameter(nx.Graph(Ga))\n",
    "print(original_diameter, anonymized_diameter)"
   ]
  },
  {
   "cell_type": "code",
   "execution_count": 22,
   "metadata": {},
   "outputs": [
    {
     "data": {
      "text/plain": [
       "Text(0, 0.5, 'Diameter')"
      ]
     },
     "execution_count": 22,
     "metadata": {},
     "output_type": "execute_result"
    },
    {
     "data": {
      "image/png": "[encoded data removed]",
      "text/plain": [
       "<Figure size 640x480 with 1 Axes>"
      ]
     },
     "metadata": {},
     "output_type": "display_data"
    }
   ],
   "source": [
    "sns.barplot({\"original\": original_diameter, \"anonymized\": anonymized_diameter})\n",
    "plt.title(\"Diameter\")\n",
    "plt.ylabel(\"Diameter\")"
   ]
  },
  {
   "cell_type": "code",
   "execution_count": 23,
   "metadata": {},
   "outputs": [
    {
     "name": "stdout",
     "output_type": "stream",
     "text": [
      "2.292682926829268 2.5853658536585367\n"
     ]
    }
   ],
   "source": [
    "from statistics import mean\n",
    "\n",
    "original_degree = mean(len(G[d]) for d in G)\n",
    "anonymized_degree = mean(len(Ga[d]) for d in Ga)\n",
    "print(original_degree, anonymized_degree)"
   ]
  },
  {
   "cell_type": "code",
   "execution_count": 24,
   "metadata": {},
   "outputs": [
    {
     "data": {
      "text/plain": [
       "Text(0, 0.5, 'Degree')"
      ]
     },
     "execution_count": 24,
     "metadata": {},
     "output_type": "execute_result"
    },
    {
     "data": {
      "image/png": "[encoded data removed]",
      "text/plain": [
       "<Figure size 640x480 with 1 Axes>"
      ]
     },
     "metadata": {},
     "output_type": "display_data"
    }
   ],
   "source": [
    "sns.barplot({\"original\": original_degree, \"anonymized\": anonymized_degree})\n",
    "plt.title(\"Degree\")\n",
    "plt.ylabel(\"Degree\")"
   ]
  },
  {
   "cell_type": "code",
   "execution_count": 25,
   "metadata": {},
   "outputs": [
    {
     "name": "stdout",
     "output_type": "stream",
     "text": [
      "0.21018333892199956 0.25265267885334475\n"
     ]
    }
   ],
   "source": [
    "original_closeness = mean(nx.closeness_centrality(G).values())\n",
    "anonymized_closeness = mean(nx.closeness_centrality(Ga).values())\n",
    "print(original_closeness, anonymized_closeness)"
   ]
  },
  {
   "cell_type": "code",
   "execution_count": 26,
   "metadata": {},
   "outputs": [
    {
     "data": {
      "text/plain": [
       "Text(0, 0.5, 'Closeness')"
      ]
     },
     "execution_count": 26,
     "metadata": {},
     "output_type": "execute_result"
    },
    {
     "data": {
      "image/png": "[encoded data removed]",
      "text/plain": [
       "<Figure size 640x480 with 1 Axes>"
      ]
     },
     "metadata": {},
     "output_type": "display_data"
    }
   ],
   "source": [
    "sns.barplot({\"original\": original_closeness, \"anonymized\": anonymized_closeness})\n",
    "plt.title(\"Closeness\")\n",
    "plt.ylabel(\"Closeness\")"
   ]
  },
  {
   "cell_type": "code",
   "execution_count": 27,
   "metadata": {},
   "outputs": [
    {
     "name": "stdout",
     "output_type": "stream",
     "text": [
      "0.09962476547842401 0.0776735459662289\n"
     ]
    }
   ],
   "source": [
    "original_betweenness = mean(nx.betweenness_centrality(G).values())\n",
    "anonymized_betweenness = mean(nx.betweenness_centrality(Ga).values())\n",
    "print(original_betweenness, anonymized_betweenness)"
   ]
  },
  {
   "cell_type": "code",
   "execution_count": 28,
   "metadata": {},
   "outputs": [
    {
     "data": {
      "text/plain": [
       "Text(0, 0.5, 'Betweenness')"
      ]
     },
     "execution_count": 28,
     "metadata": {},
     "output_type": "execute_result"
    },
    {
     "data": {
      "image/png": "[encoded data removed]",
      "text/plain": [
       "<Figure size 640x480 with 1 Axes>"
      ]
     },
     "metadata": {},
     "output_type": "display_data"
    }
   ],
   "source": [
    "sns.barplot({\"original\": original_betweenness, \"anonymized\": anonymized_betweenness})\n",
    "plt.title(\"Betweenness\")\n",
    "plt.ylabel(\"Betweenness\")"
   ]
  },
  {
   "cell_type": "markdown",
   "metadata": {},
   "source": [
    "The anonymization perturbates some metrics of the graph:\n",
    "\n",
    "-   the most of metrics in the anonymized version has a bigger value, that's beacause the adding of edges may increase the centrality of nodes and their connection of each other, as stated also by the littler diameter.\n",
    "-   on the other hand we observe a smaller betweennes, that may stand for less 'importance' for nodes.\n"
   ]
  }
 ],
 "metadata": {
  "kernelspec": {
   "display_name": ".venv",
   "language": "python",
   "name": "python3"
  },
  "language_info": {
   "codemirror_mode": {
    "name": "ipython",
    "version": 3
   },
   "file_extension": ".py",
   "mimetype": "text/x-python",
   "name": "python",
   "nbconvert_exporter": "python",
   "pygments_lexer": "ipython3",
   "version": "3.12.1"
  }
 },
 "nbformat": 4,
 "nbformat_minor": 2
}
